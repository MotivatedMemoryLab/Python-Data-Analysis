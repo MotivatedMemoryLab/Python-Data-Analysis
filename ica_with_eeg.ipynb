{
 "cells": [
  {
   "cell_type": "markdown",
   "metadata": {},
   "source": [
    "# Apply ICA to EEG data"
   ]
  },
  {
   "cell_type": "code",
   "execution_count": 8,
   "metadata": {},
   "outputs": [],
   "source": [
    "import numpy as np\n",
    "from numpy.linalg import norm\n",
    "import scipy.signal as scisig\n",
    "from scipy.interpolate import griddata\n",
    "import matplotlib\n",
    "import matplotlib.pyplot as plt\n",
    "import seaborn as sns"
   ]
  },
  {
   "cell_type": "markdown",
   "metadata": {},
   "source": [
    "## Preparation"
   ]
  },
  {
   "cell_type": "code",
   "execution_count": 9,
   "metadata": {},
   "outputs": [],
   "source": [
    "df = pd.read_csv(\"eeg_data.csv\")\n",
    "df = df.drop(['ECG', 'Trigger'], axis=1) # don't need ECG and Trigger"
   ]
  },
  {
   "cell_type": "code",
   "execution_count": 10,
   "metadata": {},
   "outputs": [
    {
     "data": {
      "text/plain": [
       "Index(['Fp1', 'Fp2', 'F3', 'F4', 'C3', 'C4', 'P3', 'P4', 'O1', 'O2', 'F7',\n",
       "       'F8', 'T7', 'T8', 'P7', 'P8', 'Fz', 'Cz', 'Pz', 'Oz', 'FC1', 'FC2',\n",
       "       'CP1', 'CP2', 'FC5', 'FC6', 'CP5', 'CP6', 'TP9', 'TP10', 'POz'],\n",
       "      dtype='object')"
      ]
     },
     "execution_count": 10,
     "metadata": {},
     "output_type": "execute_result"
    }
   ],
   "source": [
    "df.columns"
   ]
  },
  {
   "cell_type": "markdown",
   "metadata": {},
   "source": [
    "## Filter data"
   ]
  },
  {
   "cell_type": "code",
   "execution_count": 11,
   "metadata": {},
   "outputs": [],
   "source": [
    "def butter_bandpass(low, high, fs, order=5):\n",
    "    \"\"\"\n",
    "    Wrapper function for the scipy butter\n",
    "    :param low: Frequency to filter above\n",
    "    :param high: Frequency to filter below\n",
    "    :param fs: Sampling rate (hz)\n",
    "    :param order: Order of filter to use (default = 5)\n",
    "    :return: Numerator (b) and denominator (a) polynomials of the IIR filter\n",
    "    \"\"\"\n",
    "    nyq = 0.5 * fs\n",
    "    b, a = scisig.butter(order, [low / nyq, high / nyq], btype='band')\n",
    "    return b, a\n",
    "\n",
    "def butter_bandpass_filter(data, low, high, fs, order=5):\n",
    "    \"\"\"\n",
    "    Filters passed data with a bandpass butter function\n",
    "    :param data: data to be bandpass filtered\n",
    "    :param low: Frequency to filter above\n",
    "    :param high: Frequency to filter below\n",
    "    :param fs: Sampling rate (hz)\n",
    "    :param order: Order of filter to use (default = 5)\n",
    "    :return: filtered data (and modifies original data).\n",
    "    \"\"\"\n",
    "    b, a = butter_bandpass(low, high, fs, order=order)\n",
    "    data = data - np.mean(data)\n",
    "    return scisig.lfilter(b, a, data)"
   ]
  },
  {
   "cell_type": "code",
   "execution_count": 12,
   "metadata": {},
   "outputs": [],
   "source": [
    "for col in df:\n",
    "    df[col] = butter_bandpass_filter(df[col], 1, 50, 500)"
   ]
  },
  {
   "cell_type": "markdown",
   "metadata": {},
   "source": [
    "## Fast ICA"
   ]
  },
  {
   "cell_type": "code",
   "execution_count": 13,
   "metadata": {},
   "outputs": [],
   "source": [
    "from sklearn.decomposition import FastICA"
   ]
  },
  {
   "cell_type": "code",
   "execution_count": 18,
   "metadata": {},
   "outputs": [],
   "source": [
    "# whitening data: force covariance to be 1\n",
    "model = FastICA(whiten=True)\n",
    "source = model.fit_transform(df).T"
   ]
  },
  {
   "cell_type": "code",
   "execution_count": 20,
   "metadata": {},
   "outputs": [
    {
     "data": {
      "text/plain": [
       "(31, 500000)"
      ]
     },
     "execution_count": 20,
     "metadata": {},
     "output_type": "execute_result"
    }
   ],
   "source": [
    "source.shape"
   ]
  },
  {
   "cell_type": "code",
   "execution_count": null,
   "metadata": {},
   "outputs": [],
   "source": [
    "sns.set()\n",
    "X = np.arange(1500)\n",
    "fig, axes = plt.subplots(nrows=31, ncols=1, sharex=True)\n",
    "for i, ax in enumerate(axes):\n",
    "    ax.plot(X, source[i, 2000:3500])\n",
    "\n",
    "fig.set_size_inches(20, 80)"
   ]
  },
  {
   "cell_type": "code",
   "execution_count": 22,
   "metadata": {},
   "outputs": [
    {
     "data": {
      "text/plain": [
       "(31, 31)"
      ]
     },
     "execution_count": 22,
     "metadata": {},
     "output_type": "execute_result"
    }
   ],
   "source": [
    "model.mixing_.shape"
   ]
  },
  {
   "cell_type": "markdown",
   "metadata": {},
   "source": [
    "## Topography"
   ]
  },
  {
   "cell_type": "markdown",
   "metadata": {},
   "source": [
    "Here are some implementations to draw the topography map, no need to pay too much attention"
   ]
  },
  {
   "cell_type": "code",
   "execution_count": 24,
   "metadata": {},
   "outputs": [],
   "source": [
    "BRAINAMP_CHANNEL_LIST = [\n",
    "    (3.76, 8.80),     # Fp1\n",
    "    (6.24, 8.80),     # Fp2\n",
    "    (3.38, 7.10),     # F3\n",
    "    (6.62, 7.10),     # F4\n",
    "    (3.0, 5.0),       # C3\n",
    "    (7.0, 5.0),       # C4\n",
    "    (3.38, 2.90),     # P3\n",
    "    (6.62, 2.90),     # P4\n",
    "    (3.76, 1.20),     # O1\n",
    "    (6.24, 1.20),     # O2\n",
    "    (1.76, 7.35),     # F7\n",
    "    (8.24, 7.35),     # F8\n",
    "    (1.0, 5.0),       # T7\n",
    "    (9.0, 5.0),       # T8\n",
    "    (1.76, 2.65),     # P7\n",
    "    (8.24, 2.65),     # P8\n",
    "    (5.00, 7.00),     # Fz\n",
    "    (5.00, 5.00),     # Cz\n",
    "    (5.00, 3.00),     # Pz\n",
    "    (5.00, 1.00),     # Oz\n",
    "    (4.19, 6.0),      # FC1\n",
    "    (5.81, 6.0),      # FC2\n",
    "    (4.19, 4.0),      # CP1\n",
    "    (5.81, 4.0),      # CP2\n",
    "    (2.0, 6.33),      # FC5\n",
    "    (8.0, 6.33),      # FC6\n",
    "    (2.0, 3.67),      # CP5\n",
    "    (8.0, 3.67),      # CP6\n",
    "    (0.5, 3.13),      # TP9\n",
    "    (9.5, 3.13),      # TP10\n",
    "    (5.0, 2.0)        # POz\n",
    "]"
   ]
  },
  {
   "cell_type": "code",
   "execution_count": 25,
   "metadata": {},
   "outputs": [],
   "source": [
    "def crop(xi, yi, data, center, radius):\n",
    "    \"\"\"\n",
    "    Crop the region outside of the circle\n",
    "    \"\"\"\n",
    "    for ii, i in enumerate(xi):\n",
    "        for jj, j in enumerate(yi):\n",
    "            if norm([center[0] - i, center[1] - j]) - 0.03 > radius:\n",
    "                data[ii][jj] = float(\"nan\")"
   ]
  },
  {
   "cell_type": "code",
   "execution_count": 26,
   "metadata": {},
   "outputs": [],
   "source": [
    "def microstate_topo(peak_data, index, N=150, save=False):\n",
    "    \"\"\"\n",
    "    Create topology mapping of channel voltages at GFP peaks\n",
    "    \"\"\"\n",
    "    # interpolation\n",
    "    sns.set()\n",
    "    xi = np.linspace(0, 10, N)\n",
    "    yi = np.linspace(0, 10, N)\n",
    "    coords = np.zeros(len(BRAINAMP_CHANNEL_LIST) * 2).reshape((len(BRAINAMP_CHANNEL_LIST), 2))\n",
    "    for i, c in enumerate(BRAINAMP_CHANNEL_LIST):\n",
    "        coords[i, 0] = c[0]\n",
    "        coords[i, 1] = c[1]\n",
    "    # cubic interpolation\n",
    "    zi = griddata(coords, peak_data, (xi[None, :], yi[:, None]), method='cubic')\n",
    "    crop(xi, yi, zi, [5, 5], 3.8)\n",
    "    # start drawing\n",
    "    fig, ax = plt.subplots(nrows=1, ncols=1)\n",
    "    fig.set_size_inches(5, 5)\n",
    "    ax.set_xlim((0, 10))\n",
    "    ax.set_ylim((0, 10))\n",
    "    head = matplotlib.patches.Circle([5, 5], radius=3.8, edgecolor=\"k\", facecolor=\"none\")\n",
    "    ax.add_patch(head)\n",
    "    ax.contourf(xi, yi, zi, 60, cmap=\"coolwarm\", zorder=1)\n",
    "    # save (REMEMBER TO CHANGE FOR OTHER SUBJECTS NAME)\n",
    "    if save:\n",
    "        save_dir = os.path.abspath(\"../Result/Microstate_topo/4-29/1_Y3/\")\n",
    "        if not os.path.exists(save_dir):\n",
    "            os.makedirs(save_dir)\n",
    "        plt.savefig(os.path.join(save_dir, \"4-29_1_Y3_\" + str(index)))\n",
    "        plt.cla()\n",
    "    else:\n",
    "        plt.show()"
   ]
  },
  {
   "cell_type": "markdown",
   "metadata": {},
   "source": [
    "### Here, we show the $W^{-1}$ matrix (unmixing)"
   ]
  },
  {
   "cell_type": "code",
   "execution_count": null,
   "metadata": {},
   "outputs": [],
   "source": [
    "for i in range(model.mixing_.shape[1]):\n",
    "    microstate_topo(model.mixing_[:, i], None)"
   ]
  }
 ],
 "metadata": {
  "kernelspec": {
   "display_name": "Python 3",
   "language": "python",
   "name": "python3"
  },
  "language_info": {
   "codemirror_mode": {
    "name": "ipython",
    "version": 3
   },
   "file_extension": ".py",
   "mimetype": "text/x-python",
   "name": "python",
   "nbconvert_exporter": "python",
   "pygments_lexer": "ipython3",
   "version": "3.6.4"
  }
 },
 "nbformat": 4,
 "nbformat_minor": 2
}
