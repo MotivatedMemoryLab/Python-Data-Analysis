{
 "cells": [
  {
   "cell_type": "markdown",
   "metadata": {},
   "source": [
    "# Introduction to `matplotlib`"
   ]
  },
  {
   "cell_type": "markdown",
   "metadata": {},
   "source": [
    " `matplotlib` is the most commonly used visualization in Python"
   ]
  },
  {
   "cell_type": "markdown",
   "metadata": {},
   "source": [
    "## `Matplotlib`"
   ]
  },
  {
   "cell_type": "code",
   "execution_count": null,
   "metadata": {},
   "outputs": [],
   "source": [
    "import matplotlib.pyplot as plt\n",
    "import numpy as np"
   ]
  },
  {
   "cell_type": "markdown",
   "metadata": {},
   "source": [
    "### Basic plots"
   ]
  },
  {
   "cell_type": "code",
   "execution_count": null,
   "metadata": {},
   "outputs": [],
   "source": [
    "# simple line graph\n",
    "np.random.seed(0)\n",
    "# random numbers\n",
    "X = np.arange(10)\n",
    "Y = np.random.rand(10)\n",
    "# plot\n",
    "plt.plot(X, Y)"
   ]
  },
  {
   "cell_type": "code",
   "execution_count": null,
   "metadata": {},
   "outputs": [],
   "source": [
    "# scatter plots\n",
    "plt.scatter(X, Y)"
   ]
  },
  {
   "cell_type": "code",
   "execution_count": null,
   "metadata": {},
   "outputs": [],
   "source": [
    "# multiple lines in the same plot\n",
    "Y = np.random.rand(10)\n",
    "Z = np.random.rand(10)\n",
    "plt.plot(X, Y, X, Z)"
   ]
  },
  {
   "cell_type": "code",
   "execution_count": null,
   "metadata": {},
   "outputs": [],
   "source": [
    "# manipulate style\n",
    "plt.plot(X, Y, 'r--', X, Z, 'b.-')"
   ]
  },
  {
   "cell_type": "markdown",
   "metadata": {},
   "source": [
    "### subplots"
   ]
  },
  {
   "cell_type": "code",
   "execution_count": null,
   "metadata": {},
   "outputs": [],
   "source": [
    "fig, axes = plt.subplots(nrows=3, ncols=1, sharex=True)"
   ]
  },
  {
   "cell_type": "code",
   "execution_count": null,
   "metadata": {},
   "outputs": [],
   "source": [
    "# now axes is an array of axes, one for each subplots\n",
    "X = np.arange(10)\n",
    "for i in range(3):\n",
    "    axes[i].plot(X, np.random.rand(10))"
   ]
  },
  {
   "cell_type": "code",
   "execution_count": null,
   "metadata": {},
   "outputs": [],
   "source": [
    "fig"
   ]
  },
  {
   "cell_type": "code",
   "execution_count": null,
   "metadata": {},
   "outputs": [],
   "source": [
    "# change size of fig\n",
    "fig.set_size_inches(10, 5)\n",
    "fig"
   ]
  },
  {
   "cell_type": "markdown",
   "metadata": {},
   "source": [
    "### adding text to it"
   ]
  },
  {
   "cell_type": "code",
   "execution_count": null,
   "metadata": {},
   "outputs": [],
   "source": [
    "# create a random Gaussian distribution\n",
    "np.random.seed(10000)\n",
    "# mean, std\n",
    "mu, sig = 50, 10\n",
    "\n",
    "X = mu + sig * np.random.randn(1000)\n",
    "# plot a histogram\n",
    "plt.clf() # this clears the previous graph\n",
    "fig = plt.figure()\n",
    "n = plt.hist(X, 50, alpha=0.5)\n",
    "# title\n",
    "plt.title(\"Histogram\")\n",
    "plt.xlabel(\"range\")\n",
    "plt.ylabel(\"value\")\n",
    "# add the mean value line\n",
    "plt.vlines(mu, ymin=0, ymax=60, linestyle='dashed', color='r')\n",
    "# add the std arrow\n",
    "plt.arrow(mu, 30, 10, 0, shape=\"full\", head_width=1)\n",
    "plt.text(mu + 2, 33, \"$\\sigma = 5$\", size=\"x-large\")\n",
    "plt.text(mu - 2, 63, \"$\\mu = 50$\", size=\"x-large\", color=\"r\")\n",
    "fig.set_size_inches(10, 10)"
   ]
  },
  {
   "cell_type": "markdown",
   "metadata": {},
   "source": [
    "### Finally, go to doc for reference: [Here](https://matplotlib.org/index.html)"
   ]
  },
  {
   "cell_type": "markdown",
   "metadata": {},
   "source": [
    "### possibly, use Abby's data again?"
   ]
  }
 ],
 "metadata": {
  "kernelspec": {
   "display_name": "Python 3",
   "language": "python",
   "name": "python3"
  },
  "language_info": {
   "codemirror_mode": {
    "name": "ipython",
    "version": 3
   },
   "file_extension": ".py",
   "mimetype": "text/x-python",
   "name": "python",
   "nbconvert_exporter": "python",
   "pygments_lexer": "ipython3",
   "version": "3.6.4"
  }
 },
 "nbformat": 4,
 "nbformat_minor": 2
}
