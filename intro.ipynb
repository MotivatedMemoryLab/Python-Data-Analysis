{
 "cells": [
  {
   "cell_type": "markdown",
   "metadata": {},
   "source": [
    "# Introduction to Python"
   ]
  },
  {
   "cell_type": "markdown",
   "metadata": {},
   "source": [
    "This is a basic `Python` introduction. We will move quickly from here. I assumed you know variable creation, `if` statements, basic `for` and `while` loops"
   ]
  },
  {
   "cell_type": "markdown",
   "metadata": {},
   "source": [
    "## Basic data structures"
   ]
  },
  {
   "cell_type": "markdown",
   "metadata": {},
   "source": [
    "We will cover `list`, `set`, and `dictionary`"
   ]
  },
  {
   "cell_type": "markdown",
   "metadata": {},
   "source": [
    "### `List` operations\n",
    "* creation\n",
    "* find/add/delete"
   ]
  },
  {
   "cell_type": "code",
   "execution_count": 1,
   "metadata": {},
   "outputs": [],
   "source": [
    "# creation\n",
    "lst = [] # lst = list()\n",
    "# add\n",
    "lst.append(1)\n",
    "# delete\n",
    "lst.remove(1)\n",
    "# try: lst.remove(2)"
   ]
  },
  {
   "cell_type": "markdown",
   "metadata": {},
   "source": [
    "Try it: add 1 to 10 to a `list`, and calculate the average"
   ]
  },
  {
   "cell_type": "code",
   "execution_count": 2,
   "metadata": {},
   "outputs": [],
   "source": [
    "# your code here"
   ]
  },
  {
   "cell_type": "markdown",
   "metadata": {},
   "source": [
    "indexing: `lst[start:stop:step]`"
   ]
  },
  {
   "cell_type": "code",
   "execution_count": 3,
   "metadata": {},
   "outputs": [
    {
     "name": "stdout",
     "output_type": "stream",
     "text": [
      "[0, 1, 2, 3, 4, 5, 6, 7, 8, 9]\n",
      "[2, 3, 4, 5, 6]\n",
      "[2, 4, 6]\n",
      "[0, 1, 2, 3, 4, 5, 6, 7, 8]\n",
      "[2, 3, 4, 5, 6, 7, 8, 9]\n",
      "[0, 1, 2, 3, 4, 5, 6, 7, 8]\n"
     ]
    }
   ],
   "source": [
    "lst = [i for i in range(10)]\n",
    "print(lst[0:10])\n",
    "print(lst[2:7])\n",
    "print(lst[2:7:2])\n",
    "\n",
    "print(lst[:9])\n",
    "print(lst[2:])\n",
    "print(lst[:-1]) # what happens?"
   ]
  },
  {
   "cell_type": "markdown",
   "metadata": {},
   "source": [
    "### `Set` operations\n",
    "* creation\n",
    "* find/add/delete"
   ]
  },
  {
   "cell_type": "code",
   "execution_count": 4,
   "metadata": {},
   "outputs": [],
   "source": [
    "# creation\n",
    "s = set()\n",
    "# add \n",
    "s.add(1)\n",
    "s.add(1) # what happens?\n",
    "# delete\n",
    "s.remove(1)"
   ]
  },
  {
   "cell_type": "code",
   "execution_count": 5,
   "metadata": {},
   "outputs": [
    {
     "name": "stdout",
     "output_type": "stream",
     "text": [
      "5 is in this set\n"
     ]
    }
   ],
   "source": [
    "s = set(range(10))\n",
    "if 5 in s:\n",
    "    print(\"5 is in this set\")"
   ]
  },
  {
   "cell_type": "markdown",
   "metadata": {},
   "source": [
    "### `dict` operations\n",
    "* creation\n",
    "* find/add/delete"
   ]
  },
  {
   "cell_type": "code",
   "execution_count": 6,
   "metadata": {},
   "outputs": [
    {
     "name": "stdout",
     "output_type": "stream",
     "text": [
      "1\n"
     ]
    }
   ],
   "source": [
    "# creation\n",
    "d = {} # d = dict()\n",
    "# add: pairs\n",
    "d[\"one\"] = 1\n",
    "d[\"two\"] = 2\n",
    "# look up\n",
    "print(d[\"one\"])\n",
    "# print(d[\"three\"]) what happens?\n",
    "# delete \n",
    "del d[\"one\"]"
   ]
  },
  {
   "cell_type": "markdown",
   "metadata": {},
   "source": [
    "## Try the following questions"
   ]
  },
  {
   "cell_type": "markdown",
   "metadata": {},
   "source": [
    "Write a function `get_youngest_person` that takes a list of dictionaries as arguments and returns the name of the youngest person in the list. The list of dictionaries will have the following format:\n",
    "\n",
    "```\n",
    "people= [\n",
    "    {\"name\": \"Alice\", \"age\": 20},\n",
    "    {\"na me\": \"Bob\", \"age\": 9},\n",
    "    {\"name\": \"Dan\", \"age\": 56}\n",
    "]\n",
    "```\n",
    "For example, `get_youngest_person(people)` should return “Bob”. If there is more than one person with the smallest age, return the name of the person who occurs first in the list. You may assume the list contains at least one person and that no one is less than 1 year old."
   ]
  },
  {
   "cell_type": "code",
   "execution_count": 7,
   "metadata": {},
   "outputs": [
    {
     "ename": "SyntaxError",
     "evalue": "unexpected EOF while parsing (<ipython-input-7-486d62a9f7e7>, line 2)",
     "output_type": "error",
     "traceback": [
      "\u001b[0;36m  File \u001b[0;32m\"<ipython-input-7-486d62a9f7e7>\"\u001b[0;36m, line \u001b[0;32m2\u001b[0m\n\u001b[0;31m    def get_youngest_person(people):\u001b[0m\n\u001b[0m                                    ^\u001b[0m\n\u001b[0;31mSyntaxError\u001b[0m\u001b[0;31m:\u001b[0m unexpected EOF while parsing\n"
     ]
    }
   ],
   "source": [
    "# your code here\n",
    "def get_youngest_person(people):"
   ]
  },
  {
   "cell_type": "markdown",
   "metadata": {},
   "source": [
    "Write a function `transpose` that takes a nested list representation of a matrix, and transpose the matrix. \n",
    "\n",
    "For example:\n",
    "$$A = \\begin{bmatrix}\n",
    "    1 & 2 & 3 & 4 \\\\ 5 & 6 & 7 & 8 \n",
    "\\end{bmatrix}$$\n",
    "is presented as:\n",
    "```\n",
    "A = [[1, 2, 3, 4], [5, 6, 7, 8]]\n",
    "```\n",
    "function `transpose` should turn $A$ into:\n",
    "$$A^T = \\begin{bmatrix}\n",
    "    1 & 5 \\\\ 2 & 6 \\\\ 3 & 7 \\\\ 4 & 8\n",
    "\\end{bmatrix}$$\n",
    "as in \n",
    "```\n",
    "A_trans = [[1, 5], [2, 6], [3, 7], [4, 8]]\n",
    "```\n",
    "as a nested list"
   ]
  },
  {
   "cell_type": "code",
   "execution_count": 8,
   "metadata": {},
   "outputs": [],
   "source": [
    "# your code here\n",
    "def transpose(A):\n",
    "    # holder\n",
    "    A_trans = []  \n",
    "    for j in range(len(A[0])):\n",
    "        row = []\n",
    "        for i in range(len(A)):\n",
    "            row.append(A[i][j])\n",
    "        A_trans.append(row)\n",
    "    return A_trans"
   ]
  },
  {
   "cell_type": "code",
   "execution_count": 13,
   "metadata": {},
   "outputs": [
    {
     "name": "stdout",
     "output_type": "stream",
     "text": [
      "[[1, 5], [2, 6], [3, 7], [4, 8]]\n"
     ]
    }
   ],
   "source": [
    "print(transpose([[1, 2, 3, 4], [5, 6, 7, 8]]))"
   ]
  }
 ],
 "metadata": {
  "kernelspec": {
   "display_name": "Python 3",
   "language": "python",
   "name": "python3"
  },
  "language_info": {
   "codemirror_mode": {
    "name": "ipython",
    "version": 3
   },
   "file_extension": ".py",
   "mimetype": "text/x-python",
   "name": "python",
   "nbconvert_exporter": "python",
   "pygments_lexer": "ipython3",
   "version": "3.6.4"
  }
 },
 "nbformat": 4,
 "nbformat_minor": 2
}
