{
 "cells": [
  {
   "cell_type": "markdown",
   "metadata": {},
   "source": [
    "# Introduction to Numpy"
   ]
  },
  {
   "cell_type": "markdown",
   "metadata": {},
   "source": [
    "`numpy` is arguably the most important/widely-used library in Python. It offers great performance and convinence in high-dimensional arrays, which is crucial to scientific computing.\n",
    "\n",
    "We are going to focus on some basic operations, and some commonly used submodules."
   ]
  },
  {
   "cell_type": "markdown",
   "metadata": {},
   "source": [
    "Commonly, people import `numpy` and abbreviate it as `np`\n",
    "```\n",
    "import numpy as np\n",
    "```"
   ]
  },
  {
   "cell_type": "markdown",
   "metadata": {},
   "source": [
    "## As always, read [`numpy` documentations](https://docs.scipy.org/doc/numpy-1.14.0/index.html)"
   ]
  },
  {
   "cell_type": "code",
   "execution_count": null,
   "metadata": {},
   "outputs": [],
   "source": [
    "import numpy as np"
   ]
  },
  {
   "cell_type": "markdown",
   "metadata": {},
   "source": [
    "## `array` vs. `list`"
   ]
  },
  {
   "cell_type": "code",
   "execution_count": null,
   "metadata": {},
   "outputs": [],
   "source": [
    "lst = [1, 2, 3] # python lst\n",
    "print(type(lst))\n",
    "a = np.array(lst, dtype=float) # numpy array, dtype: what is the data type of the elements \n",
    "print(type(a))"
   ]
  },
  {
   "cell_type": "markdown",
   "metadata": {},
   "source": [
    "## `array` creation"
   ]
  },
  {
   "cell_type": "code",
   "execution_count": null,
   "metadata": {},
   "outputs": [],
   "source": [
    "# 1. create from list, specify dtype\n",
    "a = np.array(range(10), dtype=float)\n",
    "# 2. use np.arange\n",
    "a = np.arange(10, dtype=float)\n",
    "b = np.arange(1, 10)\n",
    "c = np.arange(10, 2, -2)"
   ]
  },
  {
   "cell_type": "code",
   "execution_count": null,
   "metadata": {},
   "outputs": [],
   "source": [
    "# 3. zeros, ones\n",
    "z = np.zeros(4)\n",
    "x = np.ones(10)"
   ]
  },
  {
   "cell_type": "markdown",
   "metadata": {},
   "source": [
    "## `array.shape`"
   ]
  },
  {
   "cell_type": "code",
   "execution_count": null,
   "metadata": {},
   "outputs": [],
   "source": [
    "a = np.arange(12)\n",
    "print(a.shape)\n",
    "# reshape arange to 2 x 6\n",
    "a = a.reshape((2, 6))\n",
    "print(a.shape)\n",
    "a = a.reshape((-1, 4))\n",
    "print(a.shape)"
   ]
  },
  {
   "cell_type": "markdown",
   "metadata": {},
   "source": [
    "## Basic operations: axis"
   ]
  },
  {
   "cell_type": "code",
   "execution_count": null,
   "metadata": {},
   "outputs": [],
   "source": [
    "a = np.arange(12).reshape((3, 4))\n",
    "# sum\n",
    "sum_over_row = a.sum(axis=0) # axis=0 -> sum over the first dimension of the array, leaving the second dimension\n",
    "sum_over_col = a.sum(axis=1) # axis=1 -> sum over the second dimension of the array, leaving the first dimension\n",
    "print(sum_over_row)\n",
    "print(sum_over_col)"
   ]
  },
  {
   "cell_type": "markdown",
   "metadata": {},
   "source": [
    "## Try this question (hint: look at `numpy.linalg` module)"
   ]
  },
  {
   "cell_type": "markdown",
   "metadata": {},
   "source": [
    "You are given a matrix with each row as a vector. Find the index of the row which has the smallest $L_2$ norm.\n",
    "As a reference, for any vector $v$ , its $L_2$ norm is defined as:\n",
    "$$ ||v||_2 = \\sqrt{\\sum_{i = 1}^{n}v_i^2}$$"
   ]
  },
  {
   "cell_type": "code",
   "execution_count": null,
   "metadata": {},
   "outputs": [],
   "source": [
    "# your code here"
   ]
  }
 ],
 "metadata": {
  "kernelspec": {
   "display_name": "Python 3",
   "language": "python",
   "name": "python3"
  },
  "language_info": {
   "codemirror_mode": {
    "name": "ipython",
    "version": 3
   },
   "file_extension": ".py",
   "mimetype": "text/x-python",
   "name": "python",
   "nbconvert_exporter": "python",
   "pygments_lexer": "ipython3",
   "version": "3.6.4"
  }
 },
 "nbformat": 4,
 "nbformat_minor": 2
}
