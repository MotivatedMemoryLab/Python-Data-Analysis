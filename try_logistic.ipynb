{
 "cells": [
  {
   "cell_type": "code",
   "execution_count": 1,
   "metadata": {},
   "outputs": [],
   "source": [
    "import pandas as pd"
   ]
  },
  {
   "cell_type": "code",
   "execution_count": 2,
   "metadata": {},
   "outputs": [
    {
     "data": {
      "text/html": [
       "<div>\n",
       "<style scoped>\n",
       "    .dataframe tbody tr th:only-of-type {\n",
       "        vertical-align: middle;\n",
       "    }\n",
       "\n",
       "    .dataframe tbody tr th {\n",
       "        vertical-align: top;\n",
       "    }\n",
       "\n",
       "    .dataframe thead th {\n",
       "        text-align: right;\n",
       "    }\n",
       "</style>\n",
       "<table border=\"1\" class=\"dataframe\">\n",
       "  <thead>\n",
       "    <tr style=\"text-align: right;\">\n",
       "      <th></th>\n",
       "      <th>category_of_pics</th>\n",
       "      <th>choose_sample_time</th>\n",
       "      <th>confidence</th>\n",
       "      <th>final_choice_x</th>\n",
       "      <th>final_choice_time</th>\n",
       "      <th>global_choose_sample</th>\n",
       "      <th>global_final_choice_time</th>\n",
       "      <th>global_time</th>\n",
       "      <th>global_time_onset_trial</th>\n",
       "      <th>majority_cat</th>\n",
       "      <th>...</th>\n",
       "      <th>total_trial_time</th>\n",
       "      <th>trial_no</th>\n",
       "      <th>trial_number</th>\n",
       "      <th>accuracy</th>\n",
       "      <th>prob_success</th>\n",
       "      <th>trajectory</th>\n",
       "      <th>subj_mean</th>\n",
       "      <th>subj_std</th>\n",
       "      <th>surprise_factor</th>\n",
       "      <th>numb_samples</th>\n",
       "    </tr>\n",
       "  </thead>\n",
       "  <tbody>\n",
       "    <tr>\n",
       "      <th>0</th>\n",
       "      <td>lnc</td>\n",
       "      <td>1.770630</td>\n",
       "      <td>3.0</td>\n",
       "      <td>living</td>\n",
       "      <td>0.392477</td>\n",
       "      <td>14.431899</td>\n",
       "      <td>25.934480</td>\n",
       "      <td>222.592592</td>\n",
       "      <td>9.599950</td>\n",
       "      <td>living</td>\n",
       "      <td>...</td>\n",
       "      <td>16.333807</td>\n",
       "      <td>1</td>\n",
       "      <td>49.0</td>\n",
       "      <td>correct</td>\n",
       "      <td>0.6875</td>\n",
       "      <td>[1,0,1]</td>\n",
       "      <td>0.834295</td>\n",
       "      <td>0.091179</td>\n",
       "      <td>3.0</td>\n",
       "      <td>3.0</td>\n",
       "    </tr>\n",
       "    <tr>\n",
       "      <th>1</th>\n",
       "      <td>lnc</td>\n",
       "      <td>1.365391</td>\n",
       "      <td>1.0</td>\n",
       "      <td>living</td>\n",
       "      <td>0.392477</td>\n",
       "      <td>18.071608</td>\n",
       "      <td>25.934480</td>\n",
       "      <td>120.365108</td>\n",
       "      <td>9.599950</td>\n",
       "      <td>living</td>\n",
       "      <td>...</td>\n",
       "      <td>16.333807</td>\n",
       "      <td>1</td>\n",
       "      <td>23.0</td>\n",
       "      <td>correct</td>\n",
       "      <td>0.6875</td>\n",
       "      <td>[1,0,1]</td>\n",
       "      <td>0.834295</td>\n",
       "      <td>0.091179</td>\n",
       "      <td>3.0</td>\n",
       "      <td>3.0</td>\n",
       "    </tr>\n",
       "    <tr>\n",
       "      <th>2</th>\n",
       "      <td>lnc</td>\n",
       "      <td>0.919521</td>\n",
       "      <td>2.0</td>\n",
       "      <td>living</td>\n",
       "      <td>0.392477</td>\n",
       "      <td>21.263842</td>\n",
       "      <td>25.934480</td>\n",
       "      <td>368.881009</td>\n",
       "      <td>9.599950</td>\n",
       "      <td>living</td>\n",
       "      <td>...</td>\n",
       "      <td>16.333807</td>\n",
       "      <td>1</td>\n",
       "      <td>87.0</td>\n",
       "      <td>correct</td>\n",
       "      <td>0.6875</td>\n",
       "      <td>[1,0,1]</td>\n",
       "      <td>0.834295</td>\n",
       "      <td>0.091179</td>\n",
       "      <td>3.0</td>\n",
       "      <td>3.0</td>\n",
       "    </tr>\n",
       "    <tr>\n",
       "      <th>3</th>\n",
       "      <td>ioc</td>\n",
       "      <td>1.053649</td>\n",
       "      <td>2.0</td>\n",
       "      <td>outdoor</td>\n",
       "      <td>0.359486</td>\n",
       "      <td>32.063873</td>\n",
       "      <td>42.309299</td>\n",
       "      <td>227.170421</td>\n",
       "      <td>27.962291</td>\n",
       "      <td>outdoor</td>\n",
       "      <td>...</td>\n",
       "      <td>14.346315</td>\n",
       "      <td>2</td>\n",
       "      <td>50.0</td>\n",
       "      <td>correct</td>\n",
       "      <td>0.6875</td>\n",
       "      <td>[0,1,1]</td>\n",
       "      <td>0.834295</td>\n",
       "      <td>0.091179</td>\n",
       "      <td>3.0</td>\n",
       "      <td>3.0</td>\n",
       "    </tr>\n",
       "    <tr>\n",
       "      <th>4</th>\n",
       "      <td>ioc</td>\n",
       "      <td>0.588231</td>\n",
       "      <td>1.0</td>\n",
       "      <td>outdoor</td>\n",
       "      <td>0.359486</td>\n",
       "      <td>34.935504</td>\n",
       "      <td>42.309299</td>\n",
       "      <td>62.400627</td>\n",
       "      <td>27.962291</td>\n",
       "      <td>outdoor</td>\n",
       "      <td>...</td>\n",
       "      <td>14.346315</td>\n",
       "      <td>2</td>\n",
       "      <td>10.0</td>\n",
       "      <td>correct</td>\n",
       "      <td>0.6875</td>\n",
       "      <td>[0,1,1]</td>\n",
       "      <td>0.834295</td>\n",
       "      <td>0.091179</td>\n",
       "      <td>3.0</td>\n",
       "      <td>3.0</td>\n",
       "    </tr>\n",
       "  </tbody>\n",
       "</table>\n",
       "<p>5 rows × 40 columns</p>\n",
       "</div>"
      ],
      "text/plain": [
       "  category_of_pics  choose_sample_time  confidence final_choice_x  \\\n",
       "0              lnc            1.770630         3.0         living   \n",
       "1              lnc            1.365391         1.0         living   \n",
       "2              lnc            0.919521         2.0         living   \n",
       "3              ioc            1.053649         2.0        outdoor   \n",
       "4              ioc            0.588231         1.0        outdoor   \n",
       "\n",
       "   final_choice_time  global_choose_sample  global_final_choice_time  \\\n",
       "0           0.392477             14.431899                 25.934480   \n",
       "1           0.392477             18.071608                 25.934480   \n",
       "2           0.392477             21.263842                 25.934480   \n",
       "3           0.359486             32.063873                 42.309299   \n",
       "4           0.359486             34.935504                 42.309299   \n",
       "\n",
       "   global_time  global_time_onset_trial majority_cat      ...       \\\n",
       "0   222.592592                 9.599950       living      ...        \n",
       "1   120.365108                 9.599950       living      ...        \n",
       "2   368.881009                 9.599950       living      ...        \n",
       "3   227.170421                27.962291      outdoor      ...        \n",
       "4    62.400627                27.962291      outdoor      ...        \n",
       "\n",
       "   total_trial_time trial_no trial_number  accuracy prob_success trajectory  \\\n",
       "0         16.333807        1         49.0   correct       0.6875    [1,0,1]   \n",
       "1         16.333807        1         23.0   correct       0.6875    [1,0,1]   \n",
       "2         16.333807        1         87.0   correct       0.6875    [1,0,1]   \n",
       "3         14.346315        2         50.0   correct       0.6875    [0,1,1]   \n",
       "4         14.346315        2         10.0   correct       0.6875    [0,1,1]   \n",
       "\n",
       "   subj_mean  subj_std  surprise_factor  numb_samples  \n",
       "0   0.834295  0.091179              3.0           3.0  \n",
       "1   0.834295  0.091179              3.0           3.0  \n",
       "2   0.834295  0.091179              3.0           3.0  \n",
       "3   0.834295  0.091179              3.0           3.0  \n",
       "4   0.834295  0.091179              3.0           3.0  \n",
       "\n",
       "[5 rows x 40 columns]"
      ]
     },
     "execution_count": 2,
     "metadata": {},
     "output_type": "execute_result"
    }
   ],
   "source": [
    "df = pd.read_csv(\"ISTM_all_data.csv\")\n",
    "df.head()"
   ]
  },
  {
   "cell_type": "markdown",
   "metadata": {},
   "source": [
    "## Preprocessing"
   ]
  },
  {
   "cell_type": "code",
   "execution_count": 3,
   "metadata": {},
   "outputs": [],
   "source": [
    "df = df[[\"majority_cat\", \"final_choice_x\", \"pic_name\", \"prob_success\", \"surprise_factor\", \"reward_type\", \"old_new_judge\"]]"
   ]
  },
  {
   "cell_type": "code",
   "execution_count": 4,
   "metadata": {},
   "outputs": [
    {
     "data": {
      "text/html": [
       "<div>\n",
       "<style scoped>\n",
       "    .dataframe tbody tr th:only-of-type {\n",
       "        vertical-align: middle;\n",
       "    }\n",
       "\n",
       "    .dataframe tbody tr th {\n",
       "        vertical-align: top;\n",
       "    }\n",
       "\n",
       "    .dataframe thead th {\n",
       "        text-align: right;\n",
       "    }\n",
       "</style>\n",
       "<table border=\"1\" class=\"dataframe\">\n",
       "  <thead>\n",
       "    <tr style=\"text-align: right;\">\n",
       "      <th></th>\n",
       "      <th>majority_cat</th>\n",
       "      <th>final_choice_x</th>\n",
       "      <th>pic_name</th>\n",
       "      <th>prob_success</th>\n",
       "      <th>surprise_factor</th>\n",
       "      <th>reward_type</th>\n",
       "      <th>old_new_judge</th>\n",
       "    </tr>\n",
       "  </thead>\n",
       "  <tbody>\n",
       "    <tr>\n",
       "      <th>0</th>\n",
       "      <td>living</td>\n",
       "      <td>living</td>\n",
       "      <td>living_81.jpg</td>\n",
       "      <td>0.6875</td>\n",
       "      <td>3.0</td>\n",
       "      <td>1</td>\n",
       "      <td>old</td>\n",
       "    </tr>\n",
       "    <tr>\n",
       "      <th>1</th>\n",
       "      <td>living</td>\n",
       "      <td>living</td>\n",
       "      <td>nonliving_572.jpg</td>\n",
       "      <td>0.6875</td>\n",
       "      <td>3.0</td>\n",
       "      <td>1</td>\n",
       "      <td>new</td>\n",
       "    </tr>\n",
       "    <tr>\n",
       "      <th>2</th>\n",
       "      <td>living</td>\n",
       "      <td>living</td>\n",
       "      <td>living_157.jpg</td>\n",
       "      <td>0.6875</td>\n",
       "      <td>3.0</td>\n",
       "      <td>1</td>\n",
       "      <td>old</td>\n",
       "    </tr>\n",
       "    <tr>\n",
       "      <th>3</th>\n",
       "      <td>outdoor</td>\n",
       "      <td>outdoor</td>\n",
       "      <td>indoor_192.jpg</td>\n",
       "      <td>0.6875</td>\n",
       "      <td>3.0</td>\n",
       "      <td>5</td>\n",
       "      <td>old</td>\n",
       "    </tr>\n",
       "    <tr>\n",
       "      <th>4</th>\n",
       "      <td>outdoor</td>\n",
       "      <td>outdoor</td>\n",
       "      <td>outdoor_78.jpg</td>\n",
       "      <td>0.6875</td>\n",
       "      <td>3.0</td>\n",
       "      <td>5</td>\n",
       "      <td>new</td>\n",
       "    </tr>\n",
       "  </tbody>\n",
       "</table>\n",
       "</div>"
      ],
      "text/plain": [
       "  majority_cat final_choice_x           pic_name  prob_success  \\\n",
       "0       living         living      living_81.jpg        0.6875   \n",
       "1       living         living  nonliving_572.jpg        0.6875   \n",
       "2       living         living     living_157.jpg        0.6875   \n",
       "3      outdoor        outdoor     indoor_192.jpg        0.6875   \n",
       "4      outdoor        outdoor     outdoor_78.jpg        0.6875   \n",
       "\n",
       "   surprise_factor  reward_type old_new_judge  \n",
       "0              3.0            1           old  \n",
       "1              3.0            1           new  \n",
       "2              3.0            1           old  \n",
       "3              3.0            5           old  \n",
       "4              3.0            5           new  "
      ]
     },
     "execution_count": 4,
     "metadata": {},
     "output_type": "execute_result"
    }
   ],
   "source": [
    "df.head()"
   ]
  },
  {
   "cell_type": "code",
   "execution_count": 22,
   "metadata": {},
   "outputs": [
    {
     "data": {
      "text/plain": [
       "array([ 3.,  2.,  1.])"
      ]
     },
     "execution_count": 22,
     "metadata": {},
     "output_type": "execute_result"
    }
   ],
   "source": [
    "df.surprise_factor.unique()"
   ]
  },
  {
   "cell_type": "code",
   "execution_count": 5,
   "metadata": {},
   "outputs": [],
   "source": [
    "df[\"success\"] = df.apply(lambda row: row.majority_cat == row.final_choice_x, axis=1)"
   ]
  },
  {
   "cell_type": "code",
   "execution_count": 6,
   "metadata": {},
   "outputs": [],
   "source": [
    "df[\"belong_to_major\"] = df.apply(lambda row: row.majority_cat == row.pic_name.split(\"_\")[0], axis=1)"
   ]
  },
  {
   "cell_type": "code",
   "execution_count": 7,
   "metadata": {},
   "outputs": [],
   "source": [
    "df = df.drop([\"majority_cat\", \"pic_name\", \"final_choice_x\"], axis=1)"
   ]
  },
  {
   "cell_type": "code",
   "execution_count": 8,
   "metadata": {},
   "outputs": [
    {
     "data": {
      "text/html": [
       "<div>\n",
       "<style scoped>\n",
       "    .dataframe tbody tr th:only-of-type {\n",
       "        vertical-align: middle;\n",
       "    }\n",
       "\n",
       "    .dataframe tbody tr th {\n",
       "        vertical-align: top;\n",
       "    }\n",
       "\n",
       "    .dataframe thead th {\n",
       "        text-align: right;\n",
       "    }\n",
       "</style>\n",
       "<table border=\"1\" class=\"dataframe\">\n",
       "  <thead>\n",
       "    <tr style=\"text-align: right;\">\n",
       "      <th></th>\n",
       "      <th>prob_success</th>\n",
       "      <th>surprise_factor</th>\n",
       "      <th>reward_type</th>\n",
       "      <th>old_new_judge</th>\n",
       "      <th>success</th>\n",
       "      <th>belong_to_major</th>\n",
       "    </tr>\n",
       "  </thead>\n",
       "  <tbody>\n",
       "    <tr>\n",
       "      <th>0</th>\n",
       "      <td>0.6875</td>\n",
       "      <td>3.0</td>\n",
       "      <td>1</td>\n",
       "      <td>old</td>\n",
       "      <td>True</td>\n",
       "      <td>True</td>\n",
       "    </tr>\n",
       "    <tr>\n",
       "      <th>1</th>\n",
       "      <td>0.6875</td>\n",
       "      <td>3.0</td>\n",
       "      <td>1</td>\n",
       "      <td>new</td>\n",
       "      <td>True</td>\n",
       "      <td>False</td>\n",
       "    </tr>\n",
       "    <tr>\n",
       "      <th>2</th>\n",
       "      <td>0.6875</td>\n",
       "      <td>3.0</td>\n",
       "      <td>1</td>\n",
       "      <td>old</td>\n",
       "      <td>True</td>\n",
       "      <td>True</td>\n",
       "    </tr>\n",
       "    <tr>\n",
       "      <th>3</th>\n",
       "      <td>0.6875</td>\n",
       "      <td>3.0</td>\n",
       "      <td>5</td>\n",
       "      <td>old</td>\n",
       "      <td>True</td>\n",
       "      <td>False</td>\n",
       "    </tr>\n",
       "    <tr>\n",
       "      <th>4</th>\n",
       "      <td>0.6875</td>\n",
       "      <td>3.0</td>\n",
       "      <td>5</td>\n",
       "      <td>new</td>\n",
       "      <td>True</td>\n",
       "      <td>True</td>\n",
       "    </tr>\n",
       "  </tbody>\n",
       "</table>\n",
       "</div>"
      ],
      "text/plain": [
       "   prob_success  surprise_factor  reward_type old_new_judge  success  \\\n",
       "0        0.6875              3.0            1           old     True   \n",
       "1        0.6875              3.0            1           new     True   \n",
       "2        0.6875              3.0            1           old     True   \n",
       "3        0.6875              3.0            5           old     True   \n",
       "4        0.6875              3.0            5           new     True   \n",
       "\n",
       "   belong_to_major  \n",
       "0             True  \n",
       "1            False  \n",
       "2             True  \n",
       "3            False  \n",
       "4             True  "
      ]
     },
     "execution_count": 8,
     "metadata": {},
     "output_type": "execute_result"
    }
   ],
   "source": [
    "df.head()"
   ]
  },
  {
   "cell_type": "code",
   "execution_count": 9,
   "metadata": {},
   "outputs": [],
   "source": [
    "df.old_new_judge = df.old_new_judge.map({\"old\": 0, \"new\":1})\n",
    "df.reward_type = df.reward_type.map({1:0, 5:1})\n",
    "df = df.dropna()"
   ]
  },
  {
   "cell_type": "markdown",
   "metadata": {},
   "source": [
    "## Prepare data"
   ]
  },
  {
   "cell_type": "markdown",
   "metadata": {},
   "source": [
    "Usually, we split data 7:2:1 as train:development:test"
   ]
  },
  {
   "cell_type": "code",
   "execution_count": 10,
   "metadata": {},
   "outputs": [],
   "source": [
    "from sklearn.model_selection import train_test_split"
   ]
  },
  {
   "cell_type": "code",
   "execution_count": 11,
   "metadata": {},
   "outputs": [],
   "source": [
    "X = df.drop([\"old_new_judge\"], axis=1).as_matrix()\n",
    "y = df[\"old_new_judge\"].as_matrix()"
   ]
  },
  {
   "cell_type": "code",
   "execution_count": 12,
   "metadata": {},
   "outputs": [],
   "source": [
    "X_train, X_test, y_train, y_test = train_test_split(X, y, test_size=0.3, shuffle=True)"
   ]
  },
  {
   "cell_type": "markdown",
   "metadata": {},
   "source": [
    "## Logistic regression"
   ]
  },
  {
   "cell_type": "code",
   "execution_count": 13,
   "metadata": {},
   "outputs": [],
   "source": [
    "from sklearn.linear_model import LogisticRegression\n",
    "from sklearn.svm import SVC"
   ]
  },
  {
   "cell_type": "code",
   "execution_count": 14,
   "metadata": {},
   "outputs": [
    {
     "data": {
      "text/plain": [
       "LogisticRegression(C=1.0, class_weight=None, dual=False, fit_intercept=True,\n",
       "          intercept_scaling=1, max_iter=100, multi_class='ovr', n_jobs=1,\n",
       "          penalty='l2', random_state=None, solver='liblinear', tol=0.0001,\n",
       "          verbose=0, warm_start=False)"
      ]
     },
     "execution_count": 14,
     "metadata": {},
     "output_type": "execute_result"
    }
   ],
   "source": [
    "model = LogisticRegression()\n",
    "model.fit(X_train, y_train)"
   ]
  },
  {
   "cell_type": "code",
   "execution_count": 15,
   "metadata": {},
   "outputs": [
    {
     "data": {
      "text/plain": [
       "array([[-0.17711688, -0.00818163, -0.02475383,  0.00632661,  0.03812808]])"
      ]
     },
     "execution_count": 15,
     "metadata": {},
     "output_type": "execute_result"
    }
   ],
   "source": [
    "model.coef_"
   ]
  },
  {
   "cell_type": "markdown",
   "metadata": {},
   "source": [
    "### get development data"
   ]
  },
  {
   "cell_type": "code",
   "execution_count": 16,
   "metadata": {},
   "outputs": [],
   "source": [
    "X_dev, X_test, y_dev, y_test = train_test_split(X_test, y_test, test_size=0.333, shuffle=True)"
   ]
  },
  {
   "cell_type": "code",
   "execution_count": 17,
   "metadata": {},
   "outputs": [
    {
     "data": {
      "text/plain": [
       "0.54939759036144575"
      ]
     },
     "execution_count": 17,
     "metadata": {},
     "output_type": "execute_result"
    }
   ],
   "source": [
    "model.score(X_dev, y_dev)"
   ]
  },
  {
   "cell_type": "code",
   "execution_count": 18,
   "metadata": {},
   "outputs": [],
   "source": [
    "from sklearn.neural_network import MLPClassifier"
   ]
  },
  {
   "cell_type": "code",
   "execution_count": 19,
   "metadata": {},
   "outputs": [],
   "source": [
    "net = MLPClassifier(solver='adam', hidden_layer_sizes=(14, 10, 5), alpha=0.1, verbose=True,\n",
    "                   max_iter=10000, tol=0.00000001)"
   ]
  },
  {
   "cell_type": "code",
   "execution_count": 20,
   "metadata": {},
   "outputs": [
    {
     "name": "stdout",
     "output_type": "stream",
     "text": [
      "Iteration 1, loss = 0.69608767\n",
      "Iteration 2, loss = 0.69228981\n",
      "Iteration 3, loss = 0.69123266\n",
      "Iteration 4, loss = 0.69056103\n",
      "Iteration 5, loss = 0.69008894\n",
      "Iteration 6, loss = 0.68981826\n",
      "Iteration 7, loss = 0.68961983\n",
      "Iteration 8, loss = 0.68950158\n",
      "Iteration 9, loss = 0.68933986\n",
      "Iteration 10, loss = 0.68926015\n",
      "Iteration 11, loss = 0.68913754\n",
      "Iteration 12, loss = 0.68908019\n",
      "Iteration 13, loss = 0.68899490\n",
      "Iteration 14, loss = 0.68892630\n",
      "Iteration 15, loss = 0.68888991\n",
      "Iteration 16, loss = 0.68885697\n",
      "Iteration 17, loss = 0.68880747\n",
      "Iteration 18, loss = 0.68878008\n",
      "Iteration 19, loss = 0.68872388\n",
      "Iteration 20, loss = 0.68869478\n",
      "Iteration 21, loss = 0.68870445\n",
      "Iteration 22, loss = 0.68864938\n",
      "Iteration 23, loss = 0.68863042\n",
      "Iteration 24, loss = 0.68864427\n",
      "Iteration 25, loss = 0.68863276\n",
      "Iteration 26, loss = 0.68857712\n",
      "Iteration 27, loss = 0.68856508\n",
      "Iteration 28, loss = 0.68854994\n",
      "Iteration 29, loss = 0.68855017\n",
      "Iteration 30, loss = 0.68853385\n",
      "Iteration 31, loss = 0.68853751\n",
      "Iteration 32, loss = 0.68850118\n",
      "Iteration 33, loss = 0.68849642\n",
      "Iteration 34, loss = 0.68849621\n",
      "Iteration 35, loss = 0.68851055\n",
      "Iteration 36, loss = 0.68848729\n",
      "Iteration 37, loss = 0.68847752\n",
      "Iteration 38, loss = 0.68846626\n",
      "Iteration 39, loss = 0.68846060\n",
      "Iteration 40, loss = 0.68851219\n",
      "Iteration 41, loss = 0.68846259\n",
      "Iteration 42, loss = 0.68846434\n",
      "Training loss did not improve more than tol=0.000000 for two consecutive epochs. Stopping.\n"
     ]
    },
    {
     "data": {
      "text/plain": [
       "MLPClassifier(activation='relu', alpha=0.1, batch_size='auto', beta_1=0.9,\n",
       "       beta_2=0.999, early_stopping=False, epsilon=1e-08,\n",
       "       hidden_layer_sizes=(14, 10, 5), learning_rate='constant',\n",
       "       learning_rate_init=0.001, max_iter=10000, momentum=0.9,\n",
       "       nesterovs_momentum=True, power_t=0.5, random_state=None,\n",
       "       shuffle=True, solver='adam', tol=1e-08, validation_fraction=0.1,\n",
       "       verbose=True, warm_start=False)"
      ]
     },
     "execution_count": 20,
     "metadata": {},
     "output_type": "execute_result"
    }
   ],
   "source": [
    "net.fit(X_train, y_train)"
   ]
  },
  {
   "cell_type": "code",
   "execution_count": 21,
   "metadata": {},
   "outputs": [
    {
     "data": {
      "text/plain": [
       "0.54869945709423873"
      ]
     },
     "execution_count": 21,
     "metadata": {},
     "output_type": "execute_result"
    }
   ],
   "source": [
    "net.score(X_train, y_train)"
   ]
  },
  {
   "cell_type": "code",
   "execution_count": null,
   "metadata": {},
   "outputs": [],
   "source": []
  }
 ],
 "metadata": {
  "kernelspec": {
   "display_name": "Python 3",
   "language": "python",
   "name": "python3"
  },
  "language_info": {
   "codemirror_mode": {
    "name": "ipython",
    "version": 3
   },
   "file_extension": ".py",
   "mimetype": "text/x-python",
   "name": "python",
   "nbconvert_exporter": "python",
   "pygments_lexer": "ipython3",
   "version": "3.6.4"
  }
 },
 "nbformat": 4,
 "nbformat_minor": 2
}
