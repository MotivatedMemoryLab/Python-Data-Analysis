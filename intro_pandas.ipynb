{
 "cells": [
  {
   "cell_type": "markdown",
   "metadata": {},
   "source": [
    "# Introduction to Pandas"
   ]
  },
  {
   "cell_type": "markdown",
   "metadata": {},
   "source": [
    "`pandas` is an awesome library for csv file manipulations, and so much more!"
   ]
  },
  {
   "cell_type": "markdown",
   "metadata": {},
   "source": [
    "## First, setup"
   ]
  },
  {
   "cell_type": "code",
   "execution_count": 1,
   "metadata": {},
   "outputs": [],
   "source": [
    "import pandas as pd\n",
    "import numpy as np"
   ]
  },
  {
   "cell_type": "markdown",
   "metadata": {},
   "source": [
    "## Series"
   ]
  },
  {
   "cell_type": "markdown",
   "metadata": {},
   "source": [
    "The basic `pandas` data structure is `Series`. It represents a one-dimensional collection of values (similar to python native `list` and `numpy` `array`)"
   ]
  },
  {
   "cell_type": "code",
   "execution_count": 2,
   "metadata": {},
   "outputs": [],
   "source": [
    "s = pd.Series([1, -4, 0])"
   ]
  },
  {
   "cell_type": "code",
   "execution_count": 3,
   "metadata": {},
   "outputs": [
    {
     "name": "stdout",
     "output_type": "stream",
     "text": [
      "-4\n"
     ]
    }
   ],
   "source": [
    "print(s[1])"
   ]
  },
  {
   "cell_type": "markdown",
   "metadata": {},
   "source": [
    "## Data Frame"
   ]
  },
  {
   "cell_type": "markdown",
   "metadata": {},
   "source": [
    "`DataFrame` would be the main way to interact with csv files (**tables**). Let's see an example"
   ]
  },
  {
   "cell_type": "markdown",
   "metadata": {},
   "source": [
    "### First, read from csv file (or any seperated files) and display them"
   ]
  },
  {
   "cell_type": "code",
   "execution_count": 4,
   "metadata": {},
   "outputs": [],
   "source": [
    "df_samping = pd.read_csv(\"data/4123_IST_sampling.csv\")\n",
    "df_memory = pd.read_csv(\"data/4123_IST_memory.csv\")\n",
    "df_samping.columns = df_samping.columns.str.replace(' ', '')\n",
    "df_memory.columns = df_memory.columns.str.replace(' ', '')"
   ]
  },
  {
   "cell_type": "code",
   "execution_count": 5,
   "metadata": {},
   "outputs": [
    {
     "data": {
      "text/html": [
       "<div>\n",
       "<style scoped>\n",
       "    .dataframe tbody tr th:only-of-type {\n",
       "        vertical-align: middle;\n",
       "    }\n",
       "\n",
       "    .dataframe tbody tr th {\n",
       "        vertical-align: top;\n",
       "    }\n",
       "\n",
       "    .dataframe thead th {\n",
       "        text-align: right;\n",
       "    }\n",
       "</style>\n",
       "<table border=\"1\" class=\"dataframe\">\n",
       "  <thead>\n",
       "    <tr style=\"text-align: right;\">\n",
       "      <th></th>\n",
       "      <th>participant_id</th>\n",
       "      <th>session</th>\n",
       "      <th>trial_no</th>\n",
       "      <th>global_time_onset_trial</th>\n",
       "      <th>ready_screen_on</th>\n",
       "      <th>ready_screen_duration</th>\n",
       "      <th>category_of_pics</th>\n",
       "      <th>probability</th>\n",
       "      <th>reward_type</th>\n",
       "      <th>majority_cat</th>\n",
       "      <th>...</th>\n",
       "      <th>sample_no</th>\n",
       "      <th>picture_path</th>\n",
       "      <th>pic_name</th>\n",
       "      <th>choose_sample_time</th>\n",
       "      <th>global_choose_sample</th>\n",
       "      <th>picture_on_global</th>\n",
       "      <th>picture_on_trial</th>\n",
       "      <th>picture_off_global</th>\n",
       "      <th>picture_off_trial</th>\n",
       "      <th></th>\n",
       "    </tr>\n",
       "  </thead>\n",
       "  <tbody>\n",
       "    <tr>\n",
       "      <th>0</th>\n",
       "      <td>4123</td>\n",
       "      <td>1</td>\n",
       "      <td>1</td>\n",
       "      <td>6.175991</td>\n",
       "      <td>6.176686</td>\n",
       "      <td>3.057400</td>\n",
       "      <td>ioc</td>\n",
       "      <td>0.6</td>\n",
       "      <td>5</td>\n",
       "      <td>indoor</td>\n",
       "      <td>...</td>\n",
       "      <td>1</td>\n",
       "      <td>C:/Users/EYETRACKER/Documents/info_sample_tas...</td>\n",
       "      <td>outdoor_82.jpg</td>\n",
       "      <td>1.058262</td>\n",
       "      <td>10.303376</td>\n",
       "      <td>10.332037</td>\n",
       "      <td>4.155356</td>\n",
       "      <td>12.341411</td>\n",
       "      <td>6.164731</td>\n",
       "      <td></td>\n",
       "    </tr>\n",
       "    <tr>\n",
       "      <th>1</th>\n",
       "      <td>4123</td>\n",
       "      <td>1</td>\n",
       "      <td>1</td>\n",
       "      <td>6.175991</td>\n",
       "      <td>6.176686</td>\n",
       "      <td>3.057400</td>\n",
       "      <td>ioc</td>\n",
       "      <td>0.6</td>\n",
       "      <td>5</td>\n",
       "      <td>indoor</td>\n",
       "      <td>...</td>\n",
       "      <td>2</td>\n",
       "      <td>C:/Users/EYETRACKER/Documents/info_sample_tas...</td>\n",
       "      <td>outdoor_133.jpg</td>\n",
       "      <td>0.977646</td>\n",
       "      <td>13.567511</td>\n",
       "      <td>13.593086</td>\n",
       "      <td>7.416406</td>\n",
       "      <td>15.608749</td>\n",
       "      <td>9.432069</td>\n",
       "      <td></td>\n",
       "    </tr>\n",
       "    <tr>\n",
       "      <th>2</th>\n",
       "      <td>4123</td>\n",
       "      <td>1</td>\n",
       "      <td>1</td>\n",
       "      <td>6.175991</td>\n",
       "      <td>6.176686</td>\n",
       "      <td>3.057400</td>\n",
       "      <td>ioc</td>\n",
       "      <td>0.6</td>\n",
       "      <td>5</td>\n",
       "      <td>indoor</td>\n",
       "      <td>...</td>\n",
       "      <td>3</td>\n",
       "      <td>C:/Users/EYETRACKER/Documents/info_sample_tas...</td>\n",
       "      <td>indoor_122.jpg</td>\n",
       "      <td>0.909801</td>\n",
       "      <td>16.767339</td>\n",
       "      <td>16.787396</td>\n",
       "      <td>10.610716</td>\n",
       "      <td>18.796897</td>\n",
       "      <td>12.620216</td>\n",
       "      <td></td>\n",
       "    </tr>\n",
       "    <tr>\n",
       "      <th>3</th>\n",
       "      <td>4123</td>\n",
       "      <td>1</td>\n",
       "      <td>1</td>\n",
       "      <td>6.175991</td>\n",
       "      <td>6.176686</td>\n",
       "      <td>3.057400</td>\n",
       "      <td>ioc</td>\n",
       "      <td>0.6</td>\n",
       "      <td>5</td>\n",
       "      <td>indoor</td>\n",
       "      <td>...</td>\n",
       "      <td>4</td>\n",
       "      <td>C:/Users/EYETRACKER/Documents/info_sample_tas...</td>\n",
       "      <td>outdoor_114.jpg</td>\n",
       "      <td>0.777908</td>\n",
       "      <td>19.823399</td>\n",
       "      <td>19.844268</td>\n",
       "      <td>13.667587</td>\n",
       "      <td>21.853322</td>\n",
       "      <td>15.676641</td>\n",
       "      <td></td>\n",
       "    </tr>\n",
       "    <tr>\n",
       "      <th>4</th>\n",
       "      <td>4123</td>\n",
       "      <td>1</td>\n",
       "      <td>2</td>\n",
       "      <td>26.578054</td>\n",
       "      <td>26.578616</td>\n",
       "      <td>3.051034</td>\n",
       "      <td>lnc</td>\n",
       "      <td>0.6</td>\n",
       "      <td>1</td>\n",
       "      <td>nonliving</td>\n",
       "      <td>...</td>\n",
       "      <td>1</td>\n",
       "      <td>C:/Users/EYETRACKER/Documents/info_sample_tas...</td>\n",
       "      <td>living_152.jpg</td>\n",
       "      <td>0.841852</td>\n",
       "      <td>30.479303</td>\n",
       "      <td>30.497736</td>\n",
       "      <td>3.919125</td>\n",
       "      <td>32.506476</td>\n",
       "      <td>5.927865</td>\n",
       "      <td></td>\n",
       "    </tr>\n",
       "  </tbody>\n",
       "</table>\n",
       "<p>5 rows × 25 columns</p>\n",
       "</div>"
      ],
      "text/plain": [
       "   participant_id  session  trial_no  global_time_onset_trial  \\\n",
       "0            4123        1         1                 6.175991   \n",
       "1            4123        1         1                 6.175991   \n",
       "2            4123        1         1                 6.175991   \n",
       "3            4123        1         1                 6.175991   \n",
       "4            4123        1         2                26.578054   \n",
       "\n",
       "   ready_screen_on  ready_screen_duration category_of_pics  probability  \\\n",
       "0         6.176686               3.057400              ioc          0.6   \n",
       "1         6.176686               3.057400              ioc          0.6   \n",
       "2         6.176686               3.057400              ioc          0.6   \n",
       "3         6.176686               3.057400              ioc          0.6   \n",
       "4        26.578616               3.051034              lnc          0.6   \n",
       "\n",
       "   reward_type majority_cat ... sample_no  \\\n",
       "0            5       indoor ...         1   \n",
       "1            5       indoor ...         2   \n",
       "2            5       indoor ...         3   \n",
       "3            5       indoor ...         4   \n",
       "4            1    nonliving ...         1   \n",
       "\n",
       "                                        picture_path          pic_name  \\\n",
       "0   C:/Users/EYETRACKER/Documents/info_sample_tas...    outdoor_82.jpg   \n",
       "1   C:/Users/EYETRACKER/Documents/info_sample_tas...   outdoor_133.jpg   \n",
       "2   C:/Users/EYETRACKER/Documents/info_sample_tas...    indoor_122.jpg   \n",
       "3   C:/Users/EYETRACKER/Documents/info_sample_tas...   outdoor_114.jpg   \n",
       "4   C:/Users/EYETRACKER/Documents/info_sample_tas...    living_152.jpg   \n",
       "\n",
       "   choose_sample_time  global_choose_sample  picture_on_global  \\\n",
       "0            1.058262             10.303376          10.332037   \n",
       "1            0.977646             13.567511          13.593086   \n",
       "2            0.909801             16.767339          16.787396   \n",
       "3            0.777908             19.823399          19.844268   \n",
       "4            0.841852             30.479303          30.497736   \n",
       "\n",
       "  picture_on_trial picture_off_global  picture_off_trial     \n",
       "0         4.155356          12.341411           6.164731     \n",
       "1         7.416406          15.608749           9.432069     \n",
       "2        10.610716          18.796897          12.620216     \n",
       "3        13.667587          21.853322          15.676641     \n",
       "4         3.919125          32.506476           5.927865     \n",
       "\n",
       "[5 rows x 25 columns]"
      ]
     },
     "execution_count": 5,
     "metadata": {},
     "output_type": "execute_result"
    }
   ],
   "source": [
    "df_samping.head()"
   ]
  },
  {
   "cell_type": "code",
   "execution_count": 6,
   "metadata": {},
   "outputs": [
    {
     "data": {
      "text/html": [
       "<div>\n",
       "<style scoped>\n",
       "    .dataframe tbody tr th:only-of-type {\n",
       "        vertical-align: middle;\n",
       "    }\n",
       "\n",
       "    .dataframe tbody tr th {\n",
       "        vertical-align: top;\n",
       "    }\n",
       "\n",
       "    .dataframe thead th {\n",
       "        text-align: right;\n",
       "    }\n",
       "</style>\n",
       "<table border=\"1\" class=\"dataframe\">\n",
       "  <thead>\n",
       "    <tr style=\"text-align: right;\">\n",
       "      <th></th>\n",
       "      <th>participant_id</th>\n",
       "      <th>session</th>\n",
       "      <th>trial_number</th>\n",
       "      <th>global_time</th>\n",
       "      <th>picture</th>\n",
       "      <th>old_new</th>\n",
       "      <th>old_new_judge</th>\n",
       "      <th>time_of_choice</th>\n",
       "      <th>confidence</th>\n",
       "      <th>time_con_rating</th>\n",
       "      <th>picture_onset</th>\n",
       "      <th>picture_offset</th>\n",
       "      <th></th>\n",
       "    </tr>\n",
       "  </thead>\n",
       "  <tbody>\n",
       "    <tr>\n",
       "      <th>0</th>\n",
       "      <td>4123</td>\n",
       "      <td>2</td>\n",
       "      <td>1</td>\n",
       "      <td>14.694848</td>\n",
       "      <td>outdoor_208.jpg</td>\n",
       "      <td>new</td>\n",
       "      <td>new</td>\n",
       "      <td>6.818242537</td>\n",
       "      <td>3</td>\n",
       "      <td>1.463256</td>\n",
       "      <td>5.389009</td>\n",
       "      <td>12.207348</td>\n",
       "      <td>NaN</td>\n",
       "    </tr>\n",
       "    <tr>\n",
       "      <th>1</th>\n",
       "      <td>4123</td>\n",
       "      <td>2</td>\n",
       "      <td>2</td>\n",
       "      <td>18.178009</td>\n",
       "      <td>living_72.jpg</td>\n",
       "      <td>old</td>\n",
       "      <td>old</td>\n",
       "      <td>1.631794628</td>\n",
       "      <td>3</td>\n",
       "      <td>0.808730</td>\n",
       "      <td>14.719182</td>\n",
       "      <td>16.351070</td>\n",
       "      <td>NaN</td>\n",
       "    </tr>\n",
       "    <tr>\n",
       "      <th>2</th>\n",
       "      <td>4123</td>\n",
       "      <td>2</td>\n",
       "      <td>3</td>\n",
       "      <td>21.713991</td>\n",
       "      <td>living_155.jpg</td>\n",
       "      <td>old</td>\n",
       "      <td>old</td>\n",
       "      <td>1.454035321</td>\n",
       "      <td>3</td>\n",
       "      <td>1.039911</td>\n",
       "      <td>18.201309</td>\n",
       "      <td>19.655411</td>\n",
       "      <td>NaN</td>\n",
       "    </tr>\n",
       "    <tr>\n",
       "      <th>3</th>\n",
       "      <td>4123</td>\n",
       "      <td>2</td>\n",
       "      <td>4</td>\n",
       "      <td>26.417422</td>\n",
       "      <td>nonliving_247.jpg</td>\n",
       "      <td>old</td>\n",
       "      <td>new</td>\n",
       "      <td>2.600254011</td>\n",
       "      <td>2</td>\n",
       "      <td>1.063993</td>\n",
       "      <td>21.734634</td>\n",
       "      <td>24.334965</td>\n",
       "      <td>NaN</td>\n",
       "    </tr>\n",
       "    <tr>\n",
       "      <th>4</th>\n",
       "      <td>4123</td>\n",
       "      <td>2</td>\n",
       "      <td>5</td>\n",
       "      <td>30.930341</td>\n",
       "      <td>living_123.jpg</td>\n",
       "      <td>old</td>\n",
       "      <td>old</td>\n",
       "      <td>1.784202552</td>\n",
       "      <td>2</td>\n",
       "      <td>1.688185</td>\n",
       "      <td>26.438702</td>\n",
       "      <td>28.223023</td>\n",
       "      <td>NaN</td>\n",
       "    </tr>\n",
       "  </tbody>\n",
       "</table>\n",
       "</div>"
      ],
      "text/plain": [
       "   participant_id  session  trial_number  global_time             picture  \\\n",
       "0            4123        2             1    14.694848     outdoor_208.jpg   \n",
       "1            4123        2             2    18.178009       living_72.jpg   \n",
       "2            4123        2             3    21.713991      living_155.jpg   \n",
       "3            4123        2             4    26.417422   nonliving_247.jpg   \n",
       "4            4123        2             5    30.930341      living_123.jpg   \n",
       "\n",
       "  old_new old_new_judge time_of_choice  confidence  time_con_rating  \\\n",
       "0     new           new    6.818242537           3         1.463256   \n",
       "1     old           old    1.631794628           3         0.808730   \n",
       "2     old           old    1.454035321           3         1.039911   \n",
       "3     old           new    2.600254011           2         1.063993   \n",
       "4     old           old    1.784202552           2         1.688185   \n",
       "\n",
       "   picture_onset  picture_offset      \n",
       "0       5.389009       12.207348 NaN  \n",
       "1      14.719182       16.351070 NaN  \n",
       "2      18.201309       19.655411 NaN  \n",
       "3      21.734634       24.334965 NaN  \n",
       "4      26.438702       28.223023 NaN  "
      ]
     },
     "execution_count": 6,
     "metadata": {},
     "output_type": "execute_result"
    }
   ],
   "source": [
    "df_memory.head()"
   ]
  },
  {
   "cell_type": "markdown",
   "metadata": {},
   "source": [
    "### Questions we will investigate:\n",
    "1. Accuracy on trials, how many trials did the participant answer correctly?\n",
    "2. What is the average number of times the participant sampled per trial? Is this different for trials worth \\$5.00 and \\$1.00?\n",
    "3. What is the participant's memory score?"
   ]
  },
  {
   "cell_type": "markdown",
   "metadata": {},
   "source": [
    "#### question 1"
   ]
  },
  {
   "cell_type": "code",
   "execution_count": 39,
   "metadata": {},
   "outputs": [],
   "source": [
    "total_length = len(df_samping[df_samping['sample_no'] == 1])\n",
    "correct = len(df_samping[(df_samping['sample_no'] == 1) & (df_samping['majority_cat'] == df_samping['final_choice'])])\n",
    "accu = correct / total_length"
   ]
  },
  {
   "cell_type": "code",
   "execution_count": 40,
   "metadata": {},
   "outputs": [
    {
     "name": "stdout",
     "output_type": "stream",
     "text": [
      "accuracy:  0.7708333333333334\n"
     ]
    }
   ],
   "source": [
    "print(\"accuracy: \", accu)"
   ]
  },
  {
   "cell_type": "markdown",
   "metadata": {},
   "source": [
    "#### question 2"
   ]
  },
  {
   "cell_type": "code",
   "execution_count": 41,
   "metadata": {},
   "outputs": [],
   "source": [
    "high_groups = df_samping[df_samping['reward_type'] == 5].groupby(['trial_no'])\n",
    "low_groups = df_samping[df_samping['reward_type'] == 1].groupby(['trial_no'])"
   ]
  },
  {
   "cell_type": "code",
   "execution_count": 42,
   "metadata": {},
   "outputs": [
    {
     "name": "stdout",
     "output_type": "stream",
     "text": [
      "high:  7.0\n",
      "low:  7.70833333333\n"
     ]
    }
   ],
   "source": [
    "high_trials = high_groups['sample_no'].count()\n",
    "print(\"high: \", high_trials.mean())\n",
    "low_trials = low_groups['sample_no'].count()\n",
    "print(\"low: \", low_trials.mean())"
   ]
  },
  {
   "cell_type": "markdown",
   "metadata": {},
   "source": [
    "#### question 3"
   ]
  },
  {
   "cell_type": "code",
   "execution_count": 44,
   "metadata": {},
   "outputs": [
    {
     "name": "stdout",
     "output_type": "stream",
     "text": [
      "correct_hit:  245\n"
     ]
    }
   ],
   "source": [
    "false_alarm = 0 # new old\n",
    "correct_hit = 0 # old old\n",
    "miss = 0 # old new\n",
    "correct_rejection = 0 # new new\n",
    "\n",
    "correct_hit = df_memory[(df_memory[\"old_new_judge\"] == \" old\") & (df_memory[\"old_new_judge\"] == \" old\")]\n",
    "print(\"correct_hit: \", len(correct_hit))"
   ]
  },
  {
   "cell_type": "code",
   "execution_count": 45,
   "metadata": {},
   "outputs": [
    {
     "name": "stdout",
     "output_type": "stream",
     "text": [
      "one missing row right here\n",
      "participant_id               4123\n",
      "session                         2\n",
      "trial_number                   28\n",
      "global_time               133.194\n",
      "picture             outdoor_6.jpg\n",
      "old_new                       old\n",
      "old_new_judge        No Selection\n",
      "time_of_choice            No Time\n",
      "confidence                      1\n",
      "time_con_rating           2.40687\n",
      "picture_onset             119.768\n",
      "picture_offset            129.768\n",
      "                              NaN\n",
      "Name: 27, dtype: object\n"
     ]
    }
   ],
   "source": [
    "# find the missing answer row\n",
    "i = 0\n",
    "for idx, row in df_memory.iterrows():\n",
    "    if row.old_new_judge != \" new\" and row.old_new_judge != \" old\":\n",
    "        i = idx\n",
    "        print(\"one missing row right here\")\n",
    "        \n",
    "print(df_memory.iloc[i])"
   ]
  }
 ],
 "metadata": {
  "kernelspec": {
   "display_name": "Python 3",
   "language": "python",
   "name": "python3"
  },
  "language_info": {
   "codemirror_mode": {
    "name": "ipython",
    "version": 3
   },
   "file_extension": ".py",
   "mimetype": "text/x-python",
   "name": "python",
   "nbconvert_exporter": "python",
   "pygments_lexer": "ipython3",
   "version": "3.6.4"
  }
 },
 "nbformat": 4,
 "nbformat_minor": 2
}
